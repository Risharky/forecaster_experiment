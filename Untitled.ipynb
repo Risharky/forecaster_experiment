{
 "cells": [
  {
   "cell_type": "markdown",
   "id": "0615af91-f777-4f8d-90dc-e9dc7f342364",
   "metadata": {},
   "source": [
    "# Serie de tiempo  USD/COP #"
   ]
  },
  {
   "cell_type": "markdown",
   "id": "bb90f3c4-2344-4a6e-94e1-735f2ae7fc3c",
   "metadata": {},
   "source": [
    "## Proyecto con fines educativos ##\n",
    "### Este proyecto se desarrolla de forma experimental para predecir variaciones en el precio del dólar(USD) contra el peso colombiano(COP), se realiza análisis del precio del dólar en pesos colombianos usando el precio de cierre, los datos usados provienen del histórico que genera la página especializada investing.com ###"
   ]
  },
  {
   "cell_type": "markdown",
   "id": "59cf6ec9-d5c2-494f-9579-d519fb87f5c0",
   "metadata": {},
   "source": [
    "### Proyecto elaborado por Ing. Ricardo Rodriguez ###"
   ]
  },
  {
   "cell_type": "code",
   "execution_count": 4,
   "id": "69b79d6c-a64e-45cb-a1d7-a28c51692e46",
   "metadata": {},
   "outputs": [],
   "source": [
    "#Importando paquetes\n",
    "import pandas as pd\n",
    "import numpy as np\n",
    "import matplotlib.pyplot as plt\n",
    "import seaborn as sns"
   ]
  },
  {
   "cell_type": "code",
   "execution_count": 5,
   "id": "1bb6ec20-429e-40fc-953e-e26f5f575722",
   "metadata": {},
   "outputs": [
    {
     "data": {
      "text/plain": [
       "<bound method DataFrame.info of             Date    Price     Open     High      Low  Change %   Date.1  Dia  \\\n",
       "0    Aug 02 2022  4307.46  4259.33  4327.88  4259.33    0.0113   August    2   \n",
       "1    Aug 01 2022  4259.33  4287.00  4293.57  4220.01   -0.0043   August    1   \n",
       "2    Jul 29 2022  4277.60  4371.00  4377.35  4238.50   -0.0193     July   29   \n",
       "3    Jul 28 2022  4361.60  4425.00  4427.01  4349.80   -0.0122     July   28   \n",
       "4    Jul 27 2022  4415.60  4444.00  4445.17  4404.10   -0.0040     July   27   \n",
       "..           ...      ...      ...      ...      ...       ...      ...  ...   \n",
       "147  Jan 07 2022  4051.06  4034.51  4059.98  4024.01    0.0041  January    7   \n",
       "148  Jan 06 2022  4034.51  4026.09  4065.59  4022.84    0.0022  January    6   \n",
       "149  Jan 05 2022  4025.50  4080.20  4080.20  4014.00   -0.0134  January    5   \n",
       "150  Jan 04 2022  4080.20  4070.00  4091.50  4065.93    0.0025  January    4   \n",
       "151  Jan 03 2022  4070.00  4068.81  4105.50  4034.81    0.0000  January    3   \n",
       "\n",
       "      Año  mes      Fecha1      Fecha  \n",
       "0    2022    8   2022-08-2 2022-08-02  \n",
       "1    2022    8   2022-08-1 2022-08-01  \n",
       "2    2022    7  2022-07-29 2022-07-29  \n",
       "3    2022    7  2022-07-28 2022-07-28  \n",
       "4    2022    7  2022-07-27 2022-07-27  \n",
       "..    ...  ...         ...        ...  \n",
       "147  2022    1   2022-01-7 2022-01-07  \n",
       "148  2022    1   2022-01-6 2022-01-06  \n",
       "149  2022    1   2022-01-5 2022-01-05  \n",
       "150  2022    1   2022-01-4 2022-01-04  \n",
       "151  2022    1   2022-01-3 2022-01-03  \n",
       "\n",
       "[152 rows x 12 columns]>"
      ]
     },
     "execution_count": 5,
     "metadata": {},
     "output_type": "execute_result"
    }
   ],
   "source": [
    "#carga de datos \n",
    "df= pd.read_excel('datos/USD_COP Historical Data.xlsx')\n",
    "df.info"
   ]
  },
  {
   "cell_type": "code",
   "execution_count": 7,
   "id": "3d87b34b-0ea5-4374-acd8-edaffef5d535",
   "metadata": {},
   "outputs": [
    {
     "data": {
      "text/html": [
       "<div>\n",
       "<style scoped>\n",
       "    .dataframe tbody tr th:only-of-type {\n",
       "        vertical-align: middle;\n",
       "    }\n",
       "\n",
       "    .dataframe tbody tr th {\n",
       "        vertical-align: top;\n",
       "    }\n",
       "\n",
       "    .dataframe thead th {\n",
       "        text-align: right;\n",
       "    }\n",
       "</style>\n",
       "<table border=\"1\" class=\"dataframe\">\n",
       "  <thead>\n",
       "    <tr style=\"text-align: right;\">\n",
       "      <th></th>\n",
       "      <th>Date</th>\n",
       "      <th>Price</th>\n",
       "      <th>Open</th>\n",
       "      <th>High</th>\n",
       "      <th>Low</th>\n",
       "      <th>Change %</th>\n",
       "      <th>Date.1</th>\n",
       "      <th>Dia</th>\n",
       "      <th>Año</th>\n",
       "      <th>mes</th>\n",
       "      <th>Fecha1</th>\n",
       "      <th>Fecha</th>\n",
       "    </tr>\n",
       "  </thead>\n",
       "  <tbody>\n",
       "    <tr>\n",
       "      <th>0</th>\n",
       "      <td>Aug 02 2022</td>\n",
       "      <td>4307.46</td>\n",
       "      <td>4259.33</td>\n",
       "      <td>4327.88</td>\n",
       "      <td>4259.33</td>\n",
       "      <td>0.0113</td>\n",
       "      <td>August</td>\n",
       "      <td>2</td>\n",
       "      <td>2022</td>\n",
       "      <td>8</td>\n",
       "      <td>2022-08-2</td>\n",
       "      <td>2022-08-02</td>\n",
       "    </tr>\n",
       "    <tr>\n",
       "      <th>1</th>\n",
       "      <td>Aug 01 2022</td>\n",
       "      <td>4259.33</td>\n",
       "      <td>4287.00</td>\n",
       "      <td>4293.57</td>\n",
       "      <td>4220.01</td>\n",
       "      <td>-0.0043</td>\n",
       "      <td>August</td>\n",
       "      <td>1</td>\n",
       "      <td>2022</td>\n",
       "      <td>8</td>\n",
       "      <td>2022-08-1</td>\n",
       "      <td>2022-08-01</td>\n",
       "    </tr>\n",
       "    <tr>\n",
       "      <th>2</th>\n",
       "      <td>Jul 29 2022</td>\n",
       "      <td>4277.60</td>\n",
       "      <td>4371.00</td>\n",
       "      <td>4377.35</td>\n",
       "      <td>4238.50</td>\n",
       "      <td>-0.0193</td>\n",
       "      <td>July</td>\n",
       "      <td>29</td>\n",
       "      <td>2022</td>\n",
       "      <td>7</td>\n",
       "      <td>2022-07-29</td>\n",
       "      <td>2022-07-29</td>\n",
       "    </tr>\n",
       "    <tr>\n",
       "      <th>3</th>\n",
       "      <td>Jul 28 2022</td>\n",
       "      <td>4361.60</td>\n",
       "      <td>4425.00</td>\n",
       "      <td>4427.01</td>\n",
       "      <td>4349.80</td>\n",
       "      <td>-0.0122</td>\n",
       "      <td>July</td>\n",
       "      <td>28</td>\n",
       "      <td>2022</td>\n",
       "      <td>7</td>\n",
       "      <td>2022-07-28</td>\n",
       "      <td>2022-07-28</td>\n",
       "    </tr>\n",
       "    <tr>\n",
       "      <th>4</th>\n",
       "      <td>Jul 27 2022</td>\n",
       "      <td>4415.60</td>\n",
       "      <td>4444.00</td>\n",
       "      <td>4445.17</td>\n",
       "      <td>4404.10</td>\n",
       "      <td>-0.0040</td>\n",
       "      <td>July</td>\n",
       "      <td>27</td>\n",
       "      <td>2022</td>\n",
       "      <td>7</td>\n",
       "      <td>2022-07-27</td>\n",
       "      <td>2022-07-27</td>\n",
       "    </tr>\n",
       "  </tbody>\n",
       "</table>\n",
       "</div>"
      ],
      "text/plain": [
       "          Date    Price     Open     High      Low  Change %  Date.1  Dia  \\\n",
       "0  Aug 02 2022  4307.46  4259.33  4327.88  4259.33    0.0113  August    2   \n",
       "1  Aug 01 2022  4259.33  4287.00  4293.57  4220.01   -0.0043  August    1   \n",
       "2  Jul 29 2022  4277.60  4371.00  4377.35  4238.50   -0.0193    July   29   \n",
       "3  Jul 28 2022  4361.60  4425.00  4427.01  4349.80   -0.0122    July   28   \n",
       "4  Jul 27 2022  4415.60  4444.00  4445.17  4404.10   -0.0040    July   27   \n",
       "\n",
       "    Año  mes      Fecha1      Fecha  \n",
       "0  2022    8   2022-08-2 2022-08-02  \n",
       "1  2022    8   2022-08-1 2022-08-01  \n",
       "2  2022    7  2022-07-29 2022-07-29  \n",
       "3  2022    7  2022-07-28 2022-07-28  \n",
       "4  2022    7  2022-07-27 2022-07-27  "
      ]
     },
     "execution_count": 7,
     "metadata": {},
     "output_type": "execute_result"
    }
   ],
   "source": [
    "df['Fecha'] = pd.to_datetime(df['Fecha'])\n",
    "df.head()"
   ]
  },
  {
   "cell_type": "code",
   "execution_count": 8,
   "id": "54673777-2542-4bc2-8c73-e7b95aadbe9e",
   "metadata": {},
   "outputs": [
    {
     "data": {
      "text/plain": [
       "Date                object\n",
       "Price              float64\n",
       "Open               float64\n",
       "High               float64\n",
       "Low                float64\n",
       "Change %           float64\n",
       "Date.1              object\n",
       "Dia                  int64\n",
       "Año                  int64\n",
       "mes                  int64\n",
       "Fecha1              object\n",
       "Fecha       datetime64[ns]\n",
       "dtype: object"
      ]
     },
     "execution_count": 8,
     "metadata": {},
     "output_type": "execute_result"
    }
   ],
   "source": [
    "df.dtypes"
   ]
  },
  {
   "cell_type": "code",
   "execution_count": 10,
   "id": "647196bd-f3ba-431b-b1ba-cd5ebc48d6f0",
   "metadata": {},
   "outputs": [
    {
     "data": {
      "text/html": [
       "<div>\n",
       "<style scoped>\n",
       "    .dataframe tbody tr th:only-of-type {\n",
       "        vertical-align: middle;\n",
       "    }\n",
       "\n",
       "    .dataframe tbody tr th {\n",
       "        vertical-align: top;\n",
       "    }\n",
       "\n",
       "    .dataframe thead th {\n",
       "        text-align: right;\n",
       "    }\n",
       "</style>\n",
       "<table border=\"1\" class=\"dataframe\">\n",
       "  <thead>\n",
       "    <tr style=\"text-align: right;\">\n",
       "      <th></th>\n",
       "      <th>Price</th>\n",
       "      <th>Open</th>\n",
       "      <th>High</th>\n",
       "      <th>Low</th>\n",
       "      <th>Change %</th>\n",
       "      <th>Dia</th>\n",
       "      <th>Año</th>\n",
       "      <th>mes</th>\n",
       "    </tr>\n",
       "  </thead>\n",
       "  <tbody>\n",
       "    <tr>\n",
       "      <th>count</th>\n",
       "      <td>152.000000</td>\n",
       "      <td>152.000000</td>\n",
       "      <td>152.000000</td>\n",
       "      <td>152.000000</td>\n",
       "      <td>152.000000</td>\n",
       "      <td>152.000000</td>\n",
       "      <td>152.0</td>\n",
       "      <td>152.000000</td>\n",
       "    </tr>\n",
       "    <tr>\n",
       "      <th>mean</th>\n",
       "      <td>3983.963882</td>\n",
       "      <td>3984.270987</td>\n",
       "      <td>4011.532434</td>\n",
       "      <td>3958.736842</td>\n",
       "      <td>0.000420</td>\n",
       "      <td>15.447368</td>\n",
       "      <td>2022.0</td>\n",
       "      <td>4.072368</td>\n",
       "    </tr>\n",
       "    <tr>\n",
       "      <th>std</th>\n",
       "      <td>201.934852</td>\n",
       "      <td>203.075804</td>\n",
       "      <td>210.095533</td>\n",
       "      <td>196.304174</td>\n",
       "      <td>0.010168</td>\n",
       "      <td>8.814339</td>\n",
       "      <td>0.0</td>\n",
       "      <td>2.029915</td>\n",
       "    </tr>\n",
       "    <tr>\n",
       "      <th>min</th>\n",
       "      <td>3704.510000</td>\n",
       "      <td>3704.510000</td>\n",
       "      <td>3744.010000</td>\n",
       "      <td>3690.010000</td>\n",
       "      <td>-0.033900</td>\n",
       "      <td>1.000000</td>\n",
       "      <td>2022.0</td>\n",
       "      <td>1.000000</td>\n",
       "    </tr>\n",
       "    <tr>\n",
       "      <th>25%</th>\n",
       "      <td>3819.697500</td>\n",
       "      <td>3819.697500</td>\n",
       "      <td>3838.010000</td>\n",
       "      <td>3792.372500</td>\n",
       "      <td>-0.004725</td>\n",
       "      <td>8.000000</td>\n",
       "      <td>2022.0</td>\n",
       "      <td>2.000000</td>\n",
       "    </tr>\n",
       "    <tr>\n",
       "      <th>50%</th>\n",
       "      <td>3951.770000</td>\n",
       "      <td>3952.070000</td>\n",
       "      <td>3974.855000</td>\n",
       "      <td>3932.885000</td>\n",
       "      <td>0.000250</td>\n",
       "      <td>15.000000</td>\n",
       "      <td>2022.0</td>\n",
       "      <td>4.000000</td>\n",
       "    </tr>\n",
       "    <tr>\n",
       "      <th>75%</th>\n",
       "      <td>4068.687500</td>\n",
       "      <td>4068.390000</td>\n",
       "      <td>4092.175000</td>\n",
       "      <td>4035.620000</td>\n",
       "      <td>0.005100</td>\n",
       "      <td>23.000000</td>\n",
       "      <td>2022.0</td>\n",
       "      <td>6.000000</td>\n",
       "    </tr>\n",
       "    <tr>\n",
       "      <th>max</th>\n",
       "      <td>4622.050000</td>\n",
       "      <td>4625.000000</td>\n",
       "      <td>4665.210000</td>\n",
       "      <td>4573.500000</td>\n",
       "      <td>0.035900</td>\n",
       "      <td>31.000000</td>\n",
       "      <td>2022.0</td>\n",
       "      <td>8.000000</td>\n",
       "    </tr>\n",
       "  </tbody>\n",
       "</table>\n",
       "</div>"
      ],
      "text/plain": [
       "             Price         Open         High          Low    Change %  \\\n",
       "count   152.000000   152.000000   152.000000   152.000000  152.000000   \n",
       "mean   3983.963882  3984.270987  4011.532434  3958.736842    0.000420   \n",
       "std     201.934852   203.075804   210.095533   196.304174    0.010168   \n",
       "min    3704.510000  3704.510000  3744.010000  3690.010000   -0.033900   \n",
       "25%    3819.697500  3819.697500  3838.010000  3792.372500   -0.004725   \n",
       "50%    3951.770000  3952.070000  3974.855000  3932.885000    0.000250   \n",
       "75%    4068.687500  4068.390000  4092.175000  4035.620000    0.005100   \n",
       "max    4622.050000  4625.000000  4665.210000  4573.500000    0.035900   \n",
       "\n",
       "              Dia     Año         mes  \n",
       "count  152.000000   152.0  152.000000  \n",
       "mean    15.447368  2022.0    4.072368  \n",
       "std      8.814339     0.0    2.029915  \n",
       "min      1.000000  2022.0    1.000000  \n",
       "25%      8.000000  2022.0    2.000000  \n",
       "50%     15.000000  2022.0    4.000000  \n",
       "75%     23.000000  2022.0    6.000000  \n",
       "max     31.000000  2022.0    8.000000  "
      ]
     },
     "execution_count": 10,
     "metadata": {},
     "output_type": "execute_result"
    }
   ],
   "source": [
    "df.describe()"
   ]
  },
  {
   "cell_type": "code",
   "execution_count": 12,
   "id": "326a4c69-6cd2-4e63-9859-a7578887a758",
   "metadata": {},
   "outputs": [
    {
     "name": "stdout",
     "output_type": "stream",
     "text": [
      "Collecting AutoTS\n",
      "  Using cached AutoTS-0.4.2-py3-none-any.whl (486 kB)\n",
      "Requirement already satisfied: scikit-learn>=0.20.* in c:\\users\\ricar\\anaconda3\\lib\\site-packages (from AutoTS) (1.0.2)\n",
      "Requirement already satisfied: numpy>=1.14.6 in c:\\users\\ricar\\anaconda3\\lib\\site-packages (from AutoTS) (1.21.5)\n",
      "Requirement already satisfied: pandas>=0.25.* in c:\\users\\ricar\\anaconda3\\lib\\site-packages (from AutoTS) (1.4.2)\n",
      "Requirement already satisfied: statsmodels>=0.10.* in c:\\users\\ricar\\anaconda3\\lib\\site-packages (from AutoTS) (0.13.2)\n",
      "Requirement already satisfied: pytz>=2020.1 in c:\\users\\ricar\\anaconda3\\lib\\site-packages (from pandas>=0.25.*->AutoTS) (2022.1)\n",
      "Requirement already satisfied: python-dateutil>=2.8.1 in c:\\users\\ricar\\anaconda3\\lib\\site-packages (from pandas>=0.25.*->AutoTS) (2.8.2)\n",
      "Requirement already satisfied: six>=1.5 in c:\\users\\ricar\\anaconda3\\lib\\site-packages (from python-dateutil>=2.8.1->pandas>=0.25.*->AutoTS) (1.16.0)\n",
      "Requirement already satisfied: scipy>=1.1.0 in c:\\users\\ricar\\anaconda3\\lib\\site-packages (from scikit-learn>=0.20.*->AutoTS) (1.7.3)\n",
      "Requirement already satisfied: threadpoolctl>=2.0.0 in c:\\users\\ricar\\anaconda3\\lib\\site-packages (from scikit-learn>=0.20.*->AutoTS) (2.2.0)\n",
      "Requirement already satisfied: joblib>=0.11 in c:\\users\\ricar\\anaconda3\\lib\\site-packages (from scikit-learn>=0.20.*->AutoTS) (1.1.0)\n",
      "Requirement already satisfied: patsy>=0.5.2 in c:\\users\\ricar\\anaconda3\\lib\\site-packages (from statsmodels>=0.10.*->AutoTS) (0.5.2)\n",
      "Requirement already satisfied: packaging>=21.3 in c:\\users\\ricar\\anaconda3\\lib\\site-packages (from statsmodels>=0.10.*->AutoTS) (21.3)\n",
      "Requirement already satisfied: pyparsing!=3.0.5,>=2.0.2 in c:\\users\\ricar\\anaconda3\\lib\\site-packages (from packaging>=21.3->statsmodels>=0.10.*->AutoTS) (3.0.4)\n",
      "Installing collected packages: AutoTS\n",
      "Successfully installed AutoTS-0.4.2\n"
     ]
    }
   ],
   "source": [
    "!pip install AutoTS"
   ]
  },
  {
   "cell_type": "code",
   "execution_count": 13,
   "id": "e2a48394-f3c9-4a77-9c35-0c87a3f59944",
   "metadata": {},
   "outputs": [],
   "source": [
    "from autots import AutoTS"
   ]
  },
  {
   "cell_type": "code",
   "execution_count": 14,
   "id": "dc9ea459-15a9-444d-980e-876d1ff78c1f",
   "metadata": {},
   "outputs": [
    {
     "name": "stdout",
     "output_type": "stream",
     "text": [
      "Using 6 cpus for n_jobs.\n"
     ]
    }
   ],
   "source": [
    "#creating modeles, autoTS tries and get the best model\n",
    "#model_list = ['LastValueNaive', 'GLS', 'GLM', 'ETS', 'AverageValueNaive', 'ARIMA', 'Theta', 'ARDL'] models with errors dont use in this case UnobservedComponents, FBprofet, VARMAX, DynamicFactor, VECM\n",
    "model_list = ['ARIMA']\n",
    "#for performance the max values of tries are 1 and a 1 validation(zero value makes one validation), predidtions for 60 days the frecuency its automatic selected with the data  \n",
    "model = AutoTS(forecast_length=30, frequency='infer', prediction_interval=0.95, ensemble='simple', model_list=model_list, transformer_list='all', max_generations=5, num_validations=2, n_jobs='auto')"
   ]
  },
  {
   "cell_type": "code",
   "execution_count": 15,
   "id": "e47b1600-9229-4931-ba06-8c4abb24dda9",
   "metadata": {},
   "outputs": [
    {
     "name": "stdout",
     "output_type": "stream",
     "text": [
      "Inferred frequency is: B\n",
      "Model Number: 1 with model ARIMA in generation 0 of 5\n",
      "Model Number: 2 with model ARIMA in generation 0 of 5\n",
      "Model Number: 3 with model ARIMA in generation 0 of 5\n",
      "Model Number: 4 with model ARIMA in generation 0 of 5\n",
      "Model Number: 5 with model ARIMA in generation 0 of 5\n",
      "Model Number: 6 with model ARIMA in generation 0 of 5\n",
      "Model Number: 7 with model ARIMA in generation 0 of 5\n",
      "Model Number: 8 with model ARIMA in generation 0 of 5\n",
      "New Generation: 1 of 5\n",
      "Model Number: 9 with model ARIMA in generation 1 of 5\n",
      "Model Number: 10 with model ARIMA in generation 1 of 5\n",
      "Model Number: 11 with model ARIMA in generation 1 of 5\n",
      "Model Number: 12 with model ARIMA in generation 1 of 5\n",
      "Model Number: 13 with model ARIMA in generation 1 of 5\n",
      "New Generation: 2 of 5\n"
     ]
    },
    {
     "name": "stderr",
     "output_type": "stream",
     "text": [
      "C:\\Users\\ricar\\anaconda3\\lib\\site-packages\\sklearn\\linear_model\\_coordinate_descent.py:647: ConvergenceWarning: Objective did not converge. You might want to increase the number of iterations, check the scale of the features or consider increasing regularisation. Duality gap: 4.944e+02, tolerance: 2.972e+00\n",
      "  model = cd_fast.enet_coordinate_descent(\n"
     ]
    },
    {
     "name": "stdout",
     "output_type": "stream",
     "text": [
      "Model Number: 14 with model ARIMA in generation 2 of 5\n",
      "Model Number: 15 with model ARIMA in generation 2 of 5\n",
      "Model Number: 16 with model ARIMA in generation 2 of 5\n"
     ]
    },
    {
     "name": "stderr",
     "output_type": "stream",
     "text": [
      "C:\\Users\\ricar\\anaconda3\\lib\\site-packages\\sklearn\\decomposition\\_pca.py:501: RuntimeWarning: invalid value encountered in true_divide\n",
      "  explained_variance_ratio_ = explained_variance_ / total_var\n"
     ]
    },
    {
     "name": "stdout",
     "output_type": "stream",
     "text": [
      "Model Number: 17 with model ARIMA in generation 2 of 5\n",
      "Model Number: 18 with model ARIMA in generation 2 of 5\n",
      "Template Eval Error: Exception('Transformer PCA failed on fit') in model 18: ARIMA\n",
      "New Generation: 3 of 5\n",
      "Model Number: 19 with model ARIMA in generation 3 of 5\n",
      "Template Eval Error: ValueError(\"regression_type='User' but future_regressor not supplied\") in model 19: ARIMA\n",
      "Model Number: 20 with model ARIMA in generation 3 of 5\n"
     ]
    },
    {
     "name": "stderr",
     "output_type": "stream",
     "text": [
      "C:\\Users\\ricar\\anaconda3\\lib\\site-packages\\sklearn\\utils\\validation.py:1688: FutureWarning: Feature names only support names that are all strings. Got feature names with dtypes: ['Timestamp', 'str']. An error will be raised in 1.2.\n",
      "  warnings.warn(\n"
     ]
    },
    {
     "name": "stdout",
     "output_type": "stream",
     "text": [
      "Model Number: 21 with model ARIMA in generation 3 of 5\n",
      "Model Number: 22 with model ARIMA in generation 3 of 5\n",
      "Model Number: 23 with model ARIMA in generation 3 of 5\n",
      "New Generation: 4 of 5\n",
      "Model Number: 24 with model ARIMA in generation 4 of 5\n",
      "Model Number: 25 with model ARIMA in generation 4 of 5\n",
      "Model Number: 26 with model ARIMA in generation 4 of 5\n",
      "Model Number: 27 with model ARIMA in generation 4 of 5\n"
     ]
    },
    {
     "name": "stderr",
     "output_type": "stream",
     "text": [
      "C:\\Users\\ricar\\anaconda3\\lib\\site-packages\\sklearn\\_loss\\glm_distribution.py:132: RuntimeWarning: divide by zero encountered in true_divide\n",
      "  return -2 * (y - y_pred) / self.unit_variance(y_pred)\n",
      "C:\\Users\\ricar\\anaconda3\\lib\\site-packages\\sklearn\\linear_model\\_glm\\glm.py:42: RuntimeWarning: invalid value encountered in multiply\n",
      "  temp = d1 * family.deviance_derivative(y, y_pred, weights)\n",
      "C:\\Users\\ricar\\anaconda3\\lib\\site-packages\\sklearn\\_loss\\glm_distribution.py:323: RuntimeWarning: divide by zero encountered in true_divide\n",
      "  dev = 2 * (xlogy(y, y / y_pred) - y + y_pred)\n"
     ]
    },
    {
     "name": "stdout",
     "output_type": "stream",
     "text": [
      "Model Number: 28 with model ARIMA in generation 4 of 5\n",
      "New Generation: 5 of 5\n",
      "Model Number: 29 with model ARIMA in generation 5 of 5\n",
      "Model Number: 30 with model ARIMA in generation 5 of 5\n",
      "Model Number: 31 with model ARIMA in generation 5 of 5\n"
     ]
    },
    {
     "name": "stderr",
     "output_type": "stream",
     "text": [
      "C:\\Users\\ricar\\anaconda3\\lib\\site-packages\\sklearn\\svm\\_base.py:1206: ConvergenceWarning: Liblinear failed to converge, increase the number of iterations.\n",
      "  warnings.warn(\n"
     ]
    },
    {
     "name": "stdout",
     "output_type": "stream",
     "text": [
      "Model Number: 32 with model ARIMA in generation 5 of 5\n",
      "Model Number: 33 with model ARIMA in generation 5 of 5\n"
     ]
    },
    {
     "name": "stderr",
     "output_type": "stream",
     "text": [
      "C:\\Users\\ricar\\anaconda3\\lib\\site-packages\\autots\\models\\ensemble.py:959: FutureWarning: The default dtype for empty Series will be 'object' instead of 'float64' in a future version. Specify a dtype explicitly to silence this warning.\n",
      "  cur_mods = pd.Series(models_pos).value_counts()\n",
      "C:\\Users\\ricar\\anaconda3\\lib\\site-packages\\autots\\models\\ensemble.py:959: FutureWarning: The default dtype for empty Series will be 'object' instead of 'float64' in a future version. Specify a dtype explicitly to silence this warning.\n",
      "  cur_mods = pd.Series(models_pos).value_counts()\n"
     ]
    },
    {
     "name": "stdout",
     "output_type": "stream",
     "text": [
      "Model Number: 34 with model Ensemble in generation 6 of Ensembles\n",
      "Model Number: 35 with model Ensemble in generation 6 of Ensembles\n",
      "Model Number: 36 with model Ensemble in generation 6 of Ensembles\n",
      "Model Number: 37 with model Ensemble in generation 6 of Ensembles\n",
      "Model Number: 38 with model Ensemble in generation 6 of Ensembles\n",
      "Validation Round: 1\n",
      "Model Number: 1 of 6 with model Ensemble for Validation 1\n",
      "📈 1 - Ensemble with avg smape 4.66: \n",
      "Model Number: 2 of 6 with model ARIMA for Validation 1\n",
      "2 - ARIMA with avg smape 4.66: \n",
      "Model Number: 3 of 6 with model Ensemble for Validation 1\n",
      "3 - Ensemble with avg smape 6.06: \n",
      "Model Number: 4 of 6 with model Ensemble for Validation 1\n",
      "4 - Ensemble with avg smape 6.06: \n",
      "Model Number: 5 of 6 with model ARIMA for Validation 1\n",
      "5 - ARIMA with avg smape 8.9: \n",
      "Model Number: 6 of 6 with model Ensemble for Validation 1\n",
      "📈 6 - Ensemble with avg smape 4.51: \n",
      "Validation Round: 2\n",
      "Model Number: 1 of 6 with model Ensemble for Validation 2\n",
      "📈 1 - Ensemble with avg smape 4.55: \n",
      "Model Number: 2 of 6 with model ARIMA for Validation 2\n",
      "2 - ARIMA with avg smape 4.55: \n",
      "Model Number: 3 of 6 with model Ensemble for Validation 2\n",
      "3 - Ensemble with avg smape 4.92: \n",
      "Model Number: 4 of 6 with model Ensemble for Validation 2\n",
      "4 - Ensemble with avg smape 4.92: \n",
      "Model Number: 5 of 6 with model ARIMA for Validation 2\n",
      "5 - ARIMA with avg smape 5.97: \n",
      "Model Number: 6 of 6 with model Ensemble for Validation 2\n",
      "📈 6 - Ensemble with avg smape 4.33: \n"
     ]
    }
   ],
   "source": [
    "model = model.fit(df, date_col='Fecha', value_col='Price', id_col=None)"
   ]
  },
  {
   "cell_type": "code",
   "execution_count": 16,
   "id": "dad6b610-c304-4a57-a79b-e341f7ec6eb0",
   "metadata": {},
   "outputs": [],
   "source": [
    "prediction = model.predict()"
   ]
  },
  {
   "cell_type": "code",
   "execution_count": 17,
   "id": "fb6faec3-6b1d-4c22-b42e-5d6cbe68789c",
   "metadata": {},
   "outputs": [],
   "source": [
    "forecast = prediction.forecast"
   ]
  },
  {
   "cell_type": "code",
   "execution_count": 18,
   "id": "75ba7361-78cb-4a08-a3d3-1d3fab6a6fd8",
   "metadata": {},
   "outputs": [
    {
     "name": "stdout",
     "output_type": "stream",
     "text": [
      "Initiated AutoTS object with best model: \n",
      "Ensemble\n",
      "{}\n",
      "{'model_name': 'BestN', 'model_count': 5, 'model_metric': 'mixed_metric', 'models': {'eb8c0d6d19502690e2db70cc94ad7c30': {'Model': 'ARIMA', 'ModelParameters': '{\"p\": 1, \"d\": 0, \"q\": 12, \"regression_type\": null}', 'TransformationParameters': '{\"fillna\": \"nearest\", \"transformations\": {\"0\": \"DifferencedTransformer\", \"1\": \"RobustScaler\", \"2\": \"Detrend\"}, \"transformation_params\": {\"0\": {}, \"1\": {}, \"2\": {\"model\": \"GLS\", \"phi\": 1, \"window\": 900}}}'}, '5c43a5b25b47071861a73ce6feea9fcb': {'Model': 'ARIMA', 'ModelParameters': '{\"p\": 3, \"d\": 0, \"q\": 4, \"regression_type\": null}', 'TransformationParameters': '{\"fillna\": \"ffill\", \"transformations\": {\"0\": \"SeasonalDifference\", \"1\": \"DifferencedTransformer\", \"2\": \"Detrend\"}, \"transformation_params\": {\"0\": {\"lag_1\": 12, \"method\": \"Mean\"}, \"1\": {}, \"2\": {\"model\": \"Linear\", \"phi\": 0.998, \"window\": null}}}'}, 'b9139e49a0df697dddaa933102b26be6': {'Model': 'ARIMA', 'ModelParameters': '{\"p\": 3, \"d\": 1, \"q\": 4, \"regression_type\": null}', 'TransformationParameters': '{\"fillna\": \"ffill\", \"transformations\": {\"0\": \"Detrend\"}, \"transformation_params\": {\"0\": {\"model\": \"Linear\", \"phi\": 1, \"window\": null}}}'}, '6b137e857d04f132f0863f4bde46ae84': {'Model': 'ARIMA', 'ModelParameters': '{\"p\": 7, \"d\": 1, \"q\": 4, \"regression_type\": null}', 'TransformationParameters': '{\"fillna\": \"rolling_mean_24\", \"transformations\": {\"0\": \"ClipOutliers\"}, \"transformation_params\": {\"0\": {\"method\": \"clip\", \"std_threshold\": 3.5, \"fillna\": null}}}'}, 'abbcbc17aa594ee969dc2a5f25cd8ac7': {'Model': 'ARIMA', 'ModelParameters': '{\"p\": 3, \"d\": 2, \"q\": 0, \"regression_type\": null}', 'TransformationParameters': '{\"fillna\": \"ffill\", \"transformations\": {\"0\": \"QuantileTransformer\", \"1\": \"RobustScaler\", \"2\": \"Detrend\", \"3\": \"CenterLastValue\"}, \"transformation_params\": {\"0\": {\"output_distribution\": \"uniform\", \"n_quantiles\": 40}, \"1\": {}, \"2\": {\"model\": \"Linear\", \"phi\": 1, \"window\": null}, \"3\": {\"rows\": 4}}}'}}, 'point_method': 'median', 'model_weights': {}}\n",
      "SMAPE: 5.272336633724333, 4.511167729660988, 4.330822835231885\n",
      "MAE: 223.8771512231516, 179.8946673681368, 165.75681207402283\n",
      "SPL: 2.5009099508432713, 1.3526278473160613, 1.01516517703007\n"
     ]
    }
   ],
   "source": [
    "\n",
    "# Print the description of the best model\n",
    "print(model)"
   ]
  },
  {
   "cell_type": "code",
   "execution_count": 20,
   "id": "22afc31e-1f6e-4e64-9dd4-2114e4d04593",
   "metadata": {},
   "outputs": [
    {
     "name": "stdout",
     "output_type": "stream",
     "text": [
      "Predicción del precio del dolar\n",
      "                  Price\n",
      "2022-08-03  4311.404356\n",
      "2022-08-04  4320.734037\n",
      "2022-08-05  4334.918315\n",
      "2022-08-08  4359.538105\n",
      "2022-08-09  4332.659876\n",
      "2022-08-10  4330.658869\n",
      "2022-08-11  4334.060098\n",
      "2022-08-12  4321.869998\n",
      "2022-08-15  4339.101159\n",
      "2022-08-16  4337.279829\n",
      "2022-08-17  4345.118142\n",
      "2022-08-18  4356.803430\n",
      "2022-08-19  4353.661282\n",
      "2022-08-22  4357.579441\n",
      "2022-08-23  4358.135621\n",
      "2022-08-24  4360.292639\n",
      "2022-08-25  4361.687345\n",
      "2022-08-26  4363.445003\n",
      "2022-08-29  4365.029742\n",
      "2022-08-30  4366.696756\n",
      "2022-08-31  4361.041638\n",
      "2022-09-01  4369.752357\n",
      "2022-09-02  4371.608505\n",
      "2022-09-05  4373.250176\n",
      "2022-09-06  4374.889806\n",
      "2022-09-07  4376.530369\n",
      "2022-09-08  4378.170449\n",
      "2022-09-09  4379.810720\n",
      "2022-09-12  4381.450807\n",
      "2022-09-13  4383.090918\n"
     ]
    }
   ],
   "source": [
    "print(\"Predicción del precio del dolar\")\n",
    "print(forecast)"
   ]
  },
  {
   "cell_type": "code",
   "execution_count": 21,
   "id": "0762a73c-1909-4ede-8c2c-ff6f51eb6d16",
   "metadata": {},
   "outputs": [
    {
     "data": {
      "text/html": [
       "<div>\n",
       "<style scoped>\n",
       "    .dataframe tbody tr th:only-of-type {\n",
       "        vertical-align: middle;\n",
       "    }\n",
       "\n",
       "    .dataframe tbody tr th {\n",
       "        vertical-align: top;\n",
       "    }\n",
       "\n",
       "    .dataframe thead th {\n",
       "        text-align: right;\n",
       "    }\n",
       "</style>\n",
       "<table border=\"1\" class=\"dataframe\">\n",
       "  <thead>\n",
       "    <tr style=\"text-align: right;\">\n",
       "      <th></th>\n",
       "      <th>Price</th>\n",
       "    </tr>\n",
       "  </thead>\n",
       "  <tbody>\n",
       "    <tr>\n",
       "      <th>2022-08-03</th>\n",
       "      <td>4311.404356</td>\n",
       "    </tr>\n",
       "    <tr>\n",
       "      <th>2022-08-04</th>\n",
       "      <td>4320.734037</td>\n",
       "    </tr>\n",
       "    <tr>\n",
       "      <th>2022-08-05</th>\n",
       "      <td>4334.918315</td>\n",
       "    </tr>\n",
       "    <tr>\n",
       "      <th>2022-08-08</th>\n",
       "      <td>4359.538105</td>\n",
       "    </tr>\n",
       "    <tr>\n",
       "      <th>2022-08-09</th>\n",
       "      <td>4332.659876</td>\n",
       "    </tr>\n",
       "  </tbody>\n",
       "</table>\n",
       "</div>"
      ],
      "text/plain": [
       "                  Price\n",
       "2022-08-03  4311.404356\n",
       "2022-08-04  4320.734037\n",
       "2022-08-05  4334.918315\n",
       "2022-08-08  4359.538105\n",
       "2022-08-09  4332.659876"
      ]
     },
     "execution_count": 21,
     "metadata": {},
     "output_type": "execute_result"
    }
   ],
   "source": [
    "forecast.head()"
   ]
  },
  {
   "cell_type": "code",
   "execution_count": 22,
   "id": "d3bff582-e4b5-4cfa-9234-10e37eeca4ef",
   "metadata": {},
   "outputs": [
    {
     "data": {
      "text/html": [
       "<div>\n",
       "<style scoped>\n",
       "    .dataframe tbody tr th:only-of-type {\n",
       "        vertical-align: middle;\n",
       "    }\n",
       "\n",
       "    .dataframe tbody tr th {\n",
       "        vertical-align: top;\n",
       "    }\n",
       "\n",
       "    .dataframe thead th {\n",
       "        text-align: right;\n",
       "    }\n",
       "</style>\n",
       "<table border=\"1\" class=\"dataframe\">\n",
       "  <thead>\n",
       "    <tr style=\"text-align: right;\">\n",
       "      <th></th>\n",
       "      <th>Price</th>\n",
       "    </tr>\n",
       "  </thead>\n",
       "  <tbody>\n",
       "    <tr>\n",
       "      <th>2022-08-03</th>\n",
       "      <td>4311.404356</td>\n",
       "    </tr>\n",
       "    <tr>\n",
       "      <th>2022-08-04</th>\n",
       "      <td>4320.734037</td>\n",
       "    </tr>\n",
       "    <tr>\n",
       "      <th>2022-08-05</th>\n",
       "      <td>4334.918315</td>\n",
       "    </tr>\n",
       "    <tr>\n",
       "      <th>2022-08-08</th>\n",
       "      <td>4359.538105</td>\n",
       "    </tr>\n",
       "    <tr>\n",
       "      <th>2022-08-09</th>\n",
       "      <td>4332.659876</td>\n",
       "    </tr>\n",
       "    <tr>\n",
       "      <th>2022-08-10</th>\n",
       "      <td>4330.658869</td>\n",
       "    </tr>\n",
       "    <tr>\n",
       "      <th>2022-08-11</th>\n",
       "      <td>4334.060098</td>\n",
       "    </tr>\n",
       "    <tr>\n",
       "      <th>2022-08-12</th>\n",
       "      <td>4321.869998</td>\n",
       "    </tr>\n",
       "    <tr>\n",
       "      <th>2022-08-15</th>\n",
       "      <td>4339.101159</td>\n",
       "    </tr>\n",
       "    <tr>\n",
       "      <th>2022-08-16</th>\n",
       "      <td>4337.279829</td>\n",
       "    </tr>\n",
       "    <tr>\n",
       "      <th>2022-08-17</th>\n",
       "      <td>4345.118142</td>\n",
       "    </tr>\n",
       "    <tr>\n",
       "      <th>2022-08-18</th>\n",
       "      <td>4356.803430</td>\n",
       "    </tr>\n",
       "    <tr>\n",
       "      <th>2022-08-19</th>\n",
       "      <td>4353.661282</td>\n",
       "    </tr>\n",
       "    <tr>\n",
       "      <th>2022-08-22</th>\n",
       "      <td>4357.579441</td>\n",
       "    </tr>\n",
       "    <tr>\n",
       "      <th>2022-08-23</th>\n",
       "      <td>4358.135621</td>\n",
       "    </tr>\n",
       "    <tr>\n",
       "      <th>2022-08-24</th>\n",
       "      <td>4360.292639</td>\n",
       "    </tr>\n",
       "    <tr>\n",
       "      <th>2022-08-25</th>\n",
       "      <td>4361.687345</td>\n",
       "    </tr>\n",
       "    <tr>\n",
       "      <th>2022-08-26</th>\n",
       "      <td>4363.445003</td>\n",
       "    </tr>\n",
       "    <tr>\n",
       "      <th>2022-08-29</th>\n",
       "      <td>4365.029742</td>\n",
       "    </tr>\n",
       "    <tr>\n",
       "      <th>2022-08-30</th>\n",
       "      <td>4366.696756</td>\n",
       "    </tr>\n",
       "    <tr>\n",
       "      <th>2022-08-31</th>\n",
       "      <td>4361.041638</td>\n",
       "    </tr>\n",
       "    <tr>\n",
       "      <th>2022-09-01</th>\n",
       "      <td>4369.752357</td>\n",
       "    </tr>\n",
       "    <tr>\n",
       "      <th>2022-09-02</th>\n",
       "      <td>4371.608505</td>\n",
       "    </tr>\n",
       "    <tr>\n",
       "      <th>2022-09-05</th>\n",
       "      <td>4373.250176</td>\n",
       "    </tr>\n",
       "    <tr>\n",
       "      <th>2022-09-06</th>\n",
       "      <td>4374.889806</td>\n",
       "    </tr>\n",
       "    <tr>\n",
       "      <th>2022-09-07</th>\n",
       "      <td>4376.530369</td>\n",
       "    </tr>\n",
       "    <tr>\n",
       "      <th>2022-09-08</th>\n",
       "      <td>4378.170449</td>\n",
       "    </tr>\n",
       "    <tr>\n",
       "      <th>2022-09-09</th>\n",
       "      <td>4379.810720</td>\n",
       "    </tr>\n",
       "    <tr>\n",
       "      <th>2022-09-12</th>\n",
       "      <td>4381.450807</td>\n",
       "    </tr>\n",
       "    <tr>\n",
       "      <th>2022-09-13</th>\n",
       "      <td>4383.090918</td>\n",
       "    </tr>\n",
       "  </tbody>\n",
       "</table>\n",
       "</div>"
      ],
      "text/plain": [
       "                  Price\n",
       "2022-08-03  4311.404356\n",
       "2022-08-04  4320.734037\n",
       "2022-08-05  4334.918315\n",
       "2022-08-08  4359.538105\n",
       "2022-08-09  4332.659876\n",
       "2022-08-10  4330.658869\n",
       "2022-08-11  4334.060098\n",
       "2022-08-12  4321.869998\n",
       "2022-08-15  4339.101159\n",
       "2022-08-16  4337.279829\n",
       "2022-08-17  4345.118142\n",
       "2022-08-18  4356.803430\n",
       "2022-08-19  4353.661282\n",
       "2022-08-22  4357.579441\n",
       "2022-08-23  4358.135621\n",
       "2022-08-24  4360.292639\n",
       "2022-08-25  4361.687345\n",
       "2022-08-26  4363.445003\n",
       "2022-08-29  4365.029742\n",
       "2022-08-30  4366.696756\n",
       "2022-08-31  4361.041638\n",
       "2022-09-01  4369.752357\n",
       "2022-09-02  4371.608505\n",
       "2022-09-05  4373.250176\n",
       "2022-09-06  4374.889806\n",
       "2022-09-07  4376.530369\n",
       "2022-09-08  4378.170449\n",
       "2022-09-09  4379.810720\n",
       "2022-09-12  4381.450807\n",
       "2022-09-13  4383.090918"
      ]
     },
     "execution_count": 22,
     "metadata": {},
     "output_type": "execute_result"
    }
   ],
   "source": [
    "forecast"
   ]
  },
  {
   "cell_type": "code",
   "execution_count": 25,
   "id": "8afe18db-cf52-436e-af3c-b86654da3627",
   "metadata": {},
   "outputs": [
    {
     "name": "stderr",
     "output_type": "stream",
     "text": [
      "C:\\Users\\ricar\\anaconda3\\lib\\site-packages\\seaborn\\_decorators.py:36: FutureWarning: Pass the following variables as keyword args: x, y. From version 0.12, the only valid positional argument will be `data`, and passing other arguments without an explicit keyword will result in an error or misinterpretation.\n",
      "  warnings.warn(\n"
     ]
    },
    {
     "data": {
      "text/plain": [
       "<AxesSubplot:ylabel='Price'>"
      ]
     },
     "execution_count": 25,
     "metadata": {},
     "output_type": "execute_result"
    },
    {
     "data": {
      "image/png": "[encoded data removed]",
      "text/plain": [
       "<Figure size 1080x576 with 1 Axes>"
      ]
     },
     "metadata": {
      "needs_background": "light"
     },
     "output_type": "display_data"
    }
   ],
   "source": [
    "xa= forecast.index\n",
    "ya= forecast[\"Price\"]\n",
    "plt.figure(figsize=(15,8))\n",
    "sns.lineplot(xa, ya)\n",
    "#plt.show()"
   ]
  },
  {
   "cell_type": "code",
   "execution_count": 39,
   "id": "d8e9101f-a736-44ab-a443-b71a3be181ba",
   "metadata": {},
   "outputs": [
    {
     "data": {
      "image/png": "[encoded data removed]",
      "text/plain": [
       "<Figure size 432x288 with 1 Axes>"
      ]
     },
     "metadata": {
      "needs_background": "light"
     },
     "output_type": "display_data"
    }
   ],
   "source": [
    "#from matplotlib.pyplot import figure\n",
    "prediction.plot(model.df_wide_numeric, remove_zeroes=False,)\n",
    "#plt.figure(figsize=(15,8))\n",
    "#figure(figsize=(25, 8), dpi=200)\n",
    "plt.show()"
   ]
  },
  {
   "cell_type": "code",
   "execution_count": 40,
   "id": "e4ef72ef-bcb2-4f99-9e22-160abad9f171",
   "metadata": {},
   "outputs": [
    {
     "data": {
      "image/png": "[encoded data removed]",
      "text/plain": [
       "<Figure size 864x288 with 1 Axes>"
      ]
     },
     "metadata": {
      "needs_background": "light"
     },
     "output_type": "display_data"
    }
   ],
   "source": [
    "model.plot_per_series_smape(kind=\"bar\")\n",
    "plt.show()"
   ]
  },
  {
   "cell_type": "code",
   "execution_count": 41,
   "id": "87bd90a1-3f6a-4734-88b1-687cca5fde2e",
   "metadata": {},
   "outputs": [
    {
     "data": {
      "image/png": "[encoded data removed]",
      "text/plain": [
       "<Figure size 864x288 with 1 Axes>"
      ]
     },
     "metadata": {
      "needs_background": "light"
     },
     "output_type": "display_data"
    }
   ],
   "source": [
    "model.plot_per_series_error()\n",
    "plt.show()"
   ]
  },
  {
   "cell_type": "code",
   "execution_count": 33,
   "id": "0d9e6b54-87aa-4dea-9556-30d16aad4ea5",
   "metadata": {},
   "outputs": [
    {
     "name": "stderr",
     "output_type": "stream",
     "text": [
      "C:\\Users\\ricar\\anaconda3\\lib\\site-packages\\seaborn\\axisgrid.py:2076: UserWarning: The `size` parameter has been renamed to `height`; please update your code.\n",
      "  warnings.warn(msg, UserWarning)\n"
     ]
    },
    {
     "ename": "TypeError",
     "evalue": "'data' must be pandas DataFrame object, not: <class 'autots.evaluator.auto_ts.AutoTS'>",
     "output_type": "error",
     "traceback": [
      "\u001b[1;31m---------------------------------------------------------------------------\u001b[0m",
      "\u001b[1;31mTypeError\u001b[0m                                 Traceback (most recent call last)",
      "Input \u001b[1;32mIn [33]\u001b[0m, in \u001b[0;36m<cell line: 1>\u001b[1;34m()\u001b[0m\n\u001b[1;32m----> 1\u001b[0m \u001b[43msns\u001b[49m\u001b[38;5;241;43m.\u001b[39;49m\u001b[43mpairplot\u001b[49m\u001b[43m(\u001b[49m\u001b[43mmodel\u001b[49m\u001b[43m,\u001b[49m\u001b[43m \u001b[49m\u001b[43mhue\u001b[49m\u001b[38;5;241;43m=\u001b[39;49m\u001b[38;5;124;43m'\u001b[39;49m\u001b[38;5;124;43mdf_wide_numeric\u001b[39;49m\u001b[38;5;124;43m'\u001b[39;49m\u001b[43m,\u001b[49m\u001b[43m \u001b[49m\u001b[43msize\u001b[49m\u001b[38;5;241;43m=\u001b[39;49m\u001b[38;5;241;43m2.5\u001b[39;49m\u001b[43m)\u001b[49m\n",
      "File \u001b[1;32m~\\anaconda3\\lib\\site-packages\\seaborn\\_decorators.py:46\u001b[0m, in \u001b[0;36m_deprecate_positional_args.<locals>.inner_f\u001b[1;34m(*args, **kwargs)\u001b[0m\n\u001b[0;32m     36\u001b[0m     warnings\u001b[38;5;241m.\u001b[39mwarn(\n\u001b[0;32m     37\u001b[0m         \u001b[38;5;124m\"\u001b[39m\u001b[38;5;124mPass the following variable\u001b[39m\u001b[38;5;132;01m{}\u001b[39;00m\u001b[38;5;124m as \u001b[39m\u001b[38;5;132;01m{}\u001b[39;00m\u001b[38;5;124mkeyword arg\u001b[39m\u001b[38;5;132;01m{}\u001b[39;00m\u001b[38;5;124m: \u001b[39m\u001b[38;5;132;01m{}\u001b[39;00m\u001b[38;5;124m. \u001b[39m\u001b[38;5;124m\"\u001b[39m\n\u001b[0;32m     38\u001b[0m         \u001b[38;5;124m\"\u001b[39m\u001b[38;5;124mFrom version 0.12, the only valid positional argument \u001b[39m\u001b[38;5;124m\"\u001b[39m\n\u001b[1;32m   (...)\u001b[0m\n\u001b[0;32m     43\u001b[0m         \u001b[38;5;167;01mFutureWarning\u001b[39;00m\n\u001b[0;32m     44\u001b[0m     )\n\u001b[0;32m     45\u001b[0m kwargs\u001b[38;5;241m.\u001b[39mupdate({k: arg \u001b[38;5;28;01mfor\u001b[39;00m k, arg \u001b[38;5;129;01min\u001b[39;00m \u001b[38;5;28mzip\u001b[39m(sig\u001b[38;5;241m.\u001b[39mparameters, args)})\n\u001b[1;32m---> 46\u001b[0m \u001b[38;5;28;01mreturn\u001b[39;00m \u001b[43mf\u001b[49m\u001b[43m(\u001b[49m\u001b[38;5;241;43m*\u001b[39;49m\u001b[38;5;241;43m*\u001b[39;49m\u001b[43mkwargs\u001b[49m\u001b[43m)\u001b[49m\n",
      "File \u001b[1;32m~\\anaconda3\\lib\\site-packages\\seaborn\\axisgrid.py:2079\u001b[0m, in \u001b[0;36mpairplot\u001b[1;34m(data, hue, hue_order, palette, vars, x_vars, y_vars, kind, diag_kind, markers, height, aspect, corner, dropna, plot_kws, diag_kws, grid_kws, size)\u001b[0m\n\u001b[0;32m   2076\u001b[0m     warnings\u001b[38;5;241m.\u001b[39mwarn(msg, \u001b[38;5;167;01mUserWarning\u001b[39;00m)\n\u001b[0;32m   2078\u001b[0m \u001b[38;5;28;01mif\u001b[39;00m \u001b[38;5;129;01mnot\u001b[39;00m \u001b[38;5;28misinstance\u001b[39m(data, pd\u001b[38;5;241m.\u001b[39mDataFrame):\n\u001b[1;32m-> 2079\u001b[0m     \u001b[38;5;28;01mraise\u001b[39;00m \u001b[38;5;167;01mTypeError\u001b[39;00m(\n\u001b[0;32m   2080\u001b[0m         \u001b[38;5;124m\"\u001b[39m\u001b[38;5;124m'\u001b[39m\u001b[38;5;124mdata\u001b[39m\u001b[38;5;124m'\u001b[39m\u001b[38;5;124m must be pandas DataFrame object, not: \u001b[39m\u001b[38;5;132;01m{typefound}\u001b[39;00m\u001b[38;5;124m\"\u001b[39m\u001b[38;5;241m.\u001b[39mformat(\n\u001b[0;32m   2081\u001b[0m             typefound\u001b[38;5;241m=\u001b[39m\u001b[38;5;28mtype\u001b[39m(data)))\n\u001b[0;32m   2083\u001b[0m plot_kws \u001b[38;5;241m=\u001b[39m {} \u001b[38;5;28;01mif\u001b[39;00m plot_kws \u001b[38;5;129;01mis\u001b[39;00m \u001b[38;5;28;01mNone\u001b[39;00m \u001b[38;5;28;01melse\u001b[39;00m plot_kws\u001b[38;5;241m.\u001b[39mcopy()\n\u001b[0;32m   2084\u001b[0m diag_kws \u001b[38;5;241m=\u001b[39m {} \u001b[38;5;28;01mif\u001b[39;00m diag_kws \u001b[38;5;129;01mis\u001b[39;00m \u001b[38;5;28;01mNone\u001b[39;00m \u001b[38;5;28;01melse\u001b[39;00m diag_kws\u001b[38;5;241m.\u001b[39mcopy()\n",
      "\u001b[1;31mTypeError\u001b[0m: 'data' must be pandas DataFrame object, not: <class 'autots.evaluator.auto_ts.AutoTS'>"
     ]
    }
   ],
   "source": [
    "sns.pairplot(model, hue='df_wide_numeric', size=2.5);"
   ]
  },
  {
   "cell_type": "code",
   "execution_count": 26,
   "id": "ca2f7efb-e149-4a03-832f-c6caef5f464b",
   "metadata": {},
   "outputs": [
    {
     "data": {
      "image/png": "[encoded data removed]",
      "text/plain": [
       "<Figure size 1080x576 with 1 Axes>"
      ]
     },
     "metadata": {
      "needs_background": "light"
     },
     "output_type": "display_data"
    }
   ],
   "source": [
    "df.Price.plot(figsize=(15,8), title= 'Precio', fontsize=14)\n",
    "forecast.Price.plot(figsize=(15,8), title= 'Precio', fontsize=14)\n",
    "plt.show()"
   ]
  },
  {
   "cell_type": "code",
   "execution_count": 42,
   "id": "02767237-2474-4170-b656-2b8d37fd28af",
   "metadata": {},
   "outputs": [
    {
     "data": {
      "image/png": "[encoded data removed]",
      "text/plain": [
       "<Figure size 432x288 with 1 Axes>"
      ]
     },
     "metadata": {
      "needs_background": "light"
     },
     "output_type": "display_data"
    }
   ],
   "source": [
    "fig = model.plot_generation_loss()\n",
    "plt.show(fig)"
   ]
  },
  {
   "cell_type": "code",
   "execution_count": null,
   "id": "795c82e9-8f99-4b89-88e3-b19fb3034c1e",
   "metadata": {},
   "outputs": [],
   "source": []
  }
 ],
 "metadata": {
  "kernelspec": {
   "display_name": "Python 3 (ipykernel)",
   "language": "python",
   "name": "python3"
  },
  "language_info": {
   "codemirror_mode": {
    "name": "ipython",
    "version": 3
   },
   "file_extension": ".py",
   "mimetype": "text/x-python",
   "name": "python",
   "nbconvert_exporter": "python",
   "pygments_lexer": "ipython3",
   "version": "3.8.13"
  }
 },
 "nbformat": 4,
 "nbformat_minor": 5
}
